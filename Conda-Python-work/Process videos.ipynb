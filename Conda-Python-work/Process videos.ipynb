{
 "cells": [
  {
   "cell_type": "code",
   "execution_count": 2,
   "id": "48f8ede8",
   "metadata": {},
   "outputs": [],
   "source": [
    "import cv2\n",
    "import os\n",
    "\n",
    "in_directory = \"./Our_images/Capstone/Hoz/Expression/\"\n",
    "out_dir = \"./Our_images/Capstone/Hoz/Images\"\n",
    "\n",
    "for filename in os.listdir(in_directory):\n",
    "\n",
    "    file = os.path.join(in_directory, filename)\n",
    "\n",
    "    capture = cv2.VideoCapture(file)\n",
    "\n",
    "    frameNr = 0\n",
    "\n",
    "    while True:\n",
    "\n",
    "        success, frame = capture.read()\n",
    "\n",
    "        if success:\n",
    "            filename_name, ext = os.path.splitext(filename)\n",
    "\n",
    "            filename_out = f\"{filename_name}_{frameNr}.jpg\"\n",
    "            file_out = os.path.join(out_dir, filename_out)\n",
    "\n",
    "            cv2.imwrite(file_out, frame)\n",
    "\n",
    "        else:\n",
    "            break\n",
    "\n",
    "        frameNr = frameNr + 1\n",
    "\n",
    "    capture.release()"
   ]
  },
  {
   "cell_type": "code",
   "execution_count": null,
   "id": "3ffc6a85",
   "metadata": {},
   "outputs": [],
   "source": []
  }
 ],
 "metadata": {
  "kernelspec": {
   "display_name": "Python 3 (ipykernel)",
   "language": "python",
   "name": "python3"
  },
  "language_info": {
   "codemirror_mode": {
    "name": "ipython",
    "version": 3
   },
   "file_extension": ".py",
   "mimetype": "text/x-python",
   "name": "python",
   "nbconvert_exporter": "python",
   "pygments_lexer": "ipython3",
   "version": "3.8.13"
  }
 },
 "nbformat": 4,
 "nbformat_minor": 5
}

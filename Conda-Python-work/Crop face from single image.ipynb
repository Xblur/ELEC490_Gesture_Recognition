{
 "cells": [
  {
   "cell_type": "code",
   "execution_count": 46,
   "id": "327d8974",
   "metadata": {},
   "outputs": [
    {
     "name": "stdout",
     "output_type": "stream",
     "text": [
      "Image Dimension    :  (480, 640, 3)\n",
      "Image Height       :  480\n",
      "Image Width        :  640\n",
      "Number of Channels :  3\n"
     ]
    },
    {
     "data": {
      "text/plain": [
       "0.3924578237533569"
      ]
     },
     "metadata": {},
     "output_type": "display_data"
    },
    {
     "data": {
      "text/plain": [
       "0.677574474811554"
      ]
     },
     "metadata": {},
     "output_type": "display_data"
    },
    {
     "data": {
      "text/plain": [
       "0.31618825674057005"
      ]
     },
     "metadata": {},
     "output_type": "display_data"
    },
    {
     "data": {
      "text/plain": [
       "0.7457978320121765"
      ]
     },
     "metadata": {},
     "output_type": "display_data"
    },
    {
     "data": {
      "text/plain": [
       "242"
      ]
     },
     "metadata": {},
     "output_type": "display_data"
    },
    {
     "data": {
      "text/plain": [
       "448"
      ]
     },
     "metadata": {},
     "output_type": "display_data"
    },
    {
     "data": {
      "text/plain": [
       "151"
      ]
     },
     "metadata": {},
     "output_type": "display_data"
    },
    {
     "data": {
      "text/plain": [
       "357"
      ]
     },
     "metadata": {},
     "output_type": "display_data"
    },
    {
     "data": {
      "text/plain": [
       "(206, 206, 3)"
      ]
     },
     "metadata": {},
     "output_type": "display_data"
    },
    {
     "data": {
      "text/plain": [
       "(255, 255, 3)"
      ]
     },
     "metadata": {},
     "output_type": "display_data"
    },
    {
     "data": {
      "text/plain": [
       "'open_mouth'"
      ]
     },
     "metadata": {},
     "output_type": "display_data"
    },
    {
     "data": {
      "text/plain": [
       "-1"
      ]
     },
     "execution_count": 46,
     "metadata": {},
     "output_type": "execute_result"
    }
   ],
   "source": [
    "# convert 3d data to labeled image data\n",
    "import cv2\n",
    "import numpy as np\n",
    "import mediapipe as mp\n",
    "import tensorflow as tf\n",
    "from tensorflow.keras.models import load_model\n",
    "from tensorflow import keras\n",
    "from tensorflow.keras import layers\n",
    "from matplotlib import pyplot as plt\n",
    "import time\n",
    "import datetime\n",
    "from pathlib import Path\n",
    "import glob\n",
    "import json\n",
    "import math\n",
    "\n",
    "tf.random.set_seed(1234)\n",
    "\n",
    "with open(\"labaled_data.json\", \"r\") as outfile:\n",
    "    pointcloud_data = json.load(outfile)\n",
    "        \n",
    "with open(\"our_labaled_data.json\", \"r\") as outfile:\n",
    "    our_data = json.load(outfile)\n",
    "    \n",
    "pointcloud_data.update(our_data)\n",
    "\n",
    "classes = set()\n",
    "for i in pointcloud_data:\n",
    "    classes.add(pointcloud_data.get(i)[1])\n",
    "classes = list(classes)\n",
    "\n",
    "# mp_face_detection = mp.solutions.face_detection\n",
    "# mp_drawing = mp.solutions.drawing_utils\n",
    "\n",
    "images_path = list(pointcloud_data.keys())\n",
    "# display(images_path[0])\n",
    "image_path = images_path[650]\n",
    "\n",
    "image = cv2.imread(image_path)\n",
    "dimensions = image.shape\n",
    "\n",
    "# gray = cv2.cvtColor(img, cv2.COLOR_BGR2GRAY)\n",
    "\n",
    "height = image.shape[0]\n",
    "width = image.shape[1]\n",
    "channels = image.shape[2]\n",
    "\n",
    "print('Image Dimension    : ',dimensions)\n",
    "print('Image Height       : ',height)\n",
    "print('Image Width        : ',width)\n",
    "print('Number of Channels : ',channels)\n",
    "\n",
    "EXTRA_PADDING=0.02\n",
    "points = np.array(pointcloud_data.get(image_path)[0])\n",
    "# min_x = min(points[:, 0])\n",
    "# max_x = max(points[:, 0])\n",
    "# min_y = min(points[:, 1])\n",
    "# max_y = max(points[:, 1])\n",
    "min_x = (min(points[:, 0])-EXTRA_PADDING) if (min(points[:, 0])-EXTRA_PADDING) > 0 else 0\n",
    "max_x = (max(points[:, 0])+EXTRA_PADDING) if (min(points[:, 0])+EXTRA_PADDING) < 1 else 1\n",
    "min_y = (min(points[:, 1])-EXTRA_PADDING) if (min(points[:, 0])-EXTRA_PADDING) > 0 else 0\n",
    "max_y = (max(points[:, 1])+EXTRA_PADDING) if (min(points[:, 0])+EXTRA_PADDING) < 1 else 1\n",
    "\n",
    "# if (max_x-min_x) < (max_y-min_y):\n",
    "#     max_x=((max_x+min_x)/2)+((max_y-min_y)/2)\n",
    "#     min_x=((max_x+min_x)/2)-((max_y-min_y)/2)\n",
    "#     if min_x < 0 :\n",
    "#         min_x = 0\n",
    "#     if max_x > 1:\n",
    "#         max_x = 1\n",
    "# elif (max_x-min_x) > (max_y-min_y):\n",
    "#     max_y=((max_y+min_y)/2)+((max_x-min_x)/2)\n",
    "#     min_y=((max_y+min_y)/2)-((max_x-min_x)/2)\n",
    "#     if min_y < 0 :\n",
    "#         min_y = 0\n",
    "#     if max_y > 1:\n",
    "#         max_y = 1\n",
    "        \n",
    "display(min_x,max_x,min_y,max_y)\n",
    "\n",
    "#coordinate are inverted here\n",
    "face_Coor_min_x = int((min_x)*width)\n",
    "face_Coor_max_x = int((max_x)*width)\n",
    "face_Coor_min_y = int((min_y)*height)\n",
    "face_Coor_max_y = int((max_y)*height)\n",
    "\n",
    "#square up the face crop\n",
    "if (face_Coor_max_x-face_Coor_min_x) < (face_Coor_max_y-face_Coor_min_y):\n",
    "    face_Coor_max_x=math.ceil((face_Coor_max_x+face_Coor_min_x)/2)+math.ceil((face_Coor_max_y-face_Coor_min_y)/2)\n",
    "    face_Coor_min_x=math.floor((face_Coor_max_x+face_Coor_min_x)/2)-math.ceil((face_Coor_max_y-face_Coor_min_y)/2)\n",
    "    if face_Coor_min_x < 0 :\n",
    "        face_Coor_min_x = 0\n",
    "    if face_Coor_max_x > width:\n",
    "        face_Coor_max_x = width\n",
    "elif (face_Coor_max_x-face_Coor_min_x) > (face_Coor_max_y-face_Coor_min_y):\n",
    "    face_Coor_max_y=math.ceil((face_Coor_max_y+face_Coor_min_y)/2)+math.ceil((face_Coor_max_x-face_Coor_min_x)/2)\n",
    "    face_Coor_min_y=math.floor((face_Coor_max_y+face_Coor_min_y)/2)-math.ceil((face_Coor_max_x-face_Coor_min_x)/2)\n",
    "    if face_Coor_min_y < 0 :\n",
    "        face_Coor_min_y = 0\n",
    "    if face_Coor_max_y > height:\n",
    "        face_Coor_max_y = height\n",
    "\n",
    "#make face crops completely square\n",
    "count =0\n",
    "while (face_Coor_max_x-face_Coor_min_x) != (face_Coor_max_y-face_Coor_min_y):\n",
    "    if (face_Coor_max_x-face_Coor_min_x) < (face_Coor_max_y-face_Coor_min_y):\n",
    "        if count%2==0:\n",
    "            face_Coor_max_x+=1\n",
    "        elif count%2==1:\n",
    "            face_Coor_min_x-=1\n",
    "    elif (face_Coor_max_x-face_Coor_min_x) > (face_Coor_max_y-face_Coor_min_y):\n",
    "        if count%2==0:\n",
    "            face_Coor_max_y+=1\n",
    "        elif count%2==1:\n",
    "            face_Coor_min_y-=1\n",
    "    count+=1\n",
    "\n",
    "    \n",
    "\n",
    "display(face_Coor_min_x, face_Coor_max_x, face_Coor_min_y, face_Coor_max_y)\n",
    "# min_z = (min(points[:, 2])-0.05) if (min(points[:, 0])-0.05) > 0 else 0\n",
    "# max_z = (max(points[:, 2])+0.05) if (min(points[:, 0])-0.05) < 1 else 1\n",
    "# display(min_x, max_x,min_y, max_y, min_z, max_z)\n",
    "# print(int(min_x*width))\n",
    "face = image[face_Coor_min_y:face_Coor_max_y, face_Coor_min_x:face_Coor_max_x]\n",
    "display(face.shape)\n",
    "# scale_percent = 150 # percent of original size\n",
    "# new_width = int(face.shape[1] * scale_percent / 100)\n",
    "# new_height = int(face.shape[0] * scale_percent / 100)\n",
    "dim = (255, 255)\n",
    "\n",
    "resized = cv2.resize(face, dim, interpolation = cv2.INTER_AREA)\n",
    "\n",
    "display(resized.shape)\n",
    "display(pointcloud_data.get(image_path)[1])\n",
    "# display(resized[0][0])\n",
    "cv2.imshow(\"Cropped Face\", face)\n",
    "cv2.imshow(\"Cropped and Resized Face\", resized)\n",
    "cv2.imshow(\"original\", image)\n",
    "cv2.waitKey(0)\n",
    "\n",
    "#     plt.imshow(annotated_image, cmap='gray')\n"
   ]
  },
  {
   "cell_type": "code",
   "execution_count": null,
   "id": "db79fba1",
   "metadata": {},
   "outputs": [],
   "source": [
    "0.22978347539901733\n",
    "\n",
    "0.20633304119110107\n",
    "\n",
    "0.7202502489089966\n",
    "\n",
    "0.784380316734314"
   ]
  },
  {
   "cell_type": "code",
   "execution_count": null,
   "id": "90b5c5ed",
   "metadata": {},
   "outputs": [],
   "source": []
  }
 ],
 "metadata": {
  "kernelspec": {
   "display_name": "Python 3 (ipykernel)",
   "language": "python",
   "name": "python3"
  },
  "language_info": {
   "codemirror_mode": {
    "name": "ipython",
    "version": 3
   },
   "file_extension": ".py",
   "mimetype": "text/x-python",
   "name": "python",
   "nbconvert_exporter": "python",
   "pygments_lexer": "ipython3",
   "version": "3.8.13"
  }
 },
 "nbformat": 4,
 "nbformat_minor": 5
}

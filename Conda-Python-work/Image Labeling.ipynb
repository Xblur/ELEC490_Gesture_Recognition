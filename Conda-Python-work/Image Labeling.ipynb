{
 "cells": [
  {
   "cell_type": "code",
   "execution_count": 64,
   "id": "310104f9",
   "metadata": {},
   "outputs": [],
   "source": [
    "import cv2\n",
    "import numpy as np\n",
    "import mediapipe as mp\n",
    "import tensorflow as tf\n",
    "from tensorflow.keras.models import load_model\n",
    "import time\n",
    "import datetime\n",
    "import json\n",
    "from pathlib import Path\n",
    "from ipywidgets import Output, Button, Layout, HBox\n",
    "from IPython.display import Image, display, clear_output\n",
    "\n",
    "class LabelingTool:\n",
    "    def __init__(self, classes: list, path: str, position = 0) -> None:\n",
    "        self.classes = classes\n",
    "        self.path = Path(path)\n",
    "        self.images = [f.name for f in self.path.glob(\"*.jpg\")]\n",
    "        self.labeled_data = {}\n",
    "        if (0 <= position < len(self.images)):\n",
    "            self.position = position\n",
    "        else:\n",
    "            print(\"Position out of bound. Setting to 0 \" + \"number of images: \" + str(len(self.images)))\n",
    "            self.position = 0\n",
    "\n",
    "    def _next_image(self, *args) -> None:\n",
    "        \"\"\"Select the next image and update the displays.\"\"\"\n",
    "        self.position += 1\n",
    "        if self.position == len(self.images):\n",
    "            self.position = 0\n",
    "\n",
    "        # refresh display\n",
    "        image = Image(self.path / self.images[self.position])\n",
    "        clear_output(wait=True)\n",
    "        with self.frame:\n",
    "            clear_output(wait=True)\n",
    "            display(image)\n",
    "        display(self.frame)\n",
    "        display(HBox(self.navigation_buttons))\n",
    "        display(HBox(self.class_buttons))\n",
    "\n",
    "    def _previous_image(self, *args) -> None:\n",
    "        \"\"\"Select the previous image and update the displays.\"\"\"\n",
    "        self.position -= 1\n",
    "        if self.position == -1:\n",
    "            self.position = len(self.images) - 1\n",
    "\n",
    "        # refresh display\n",
    "        image = Image(self.path / self.images[self.position])\n",
    "        clear_output(wait=True)\n",
    "        with self.frame:\n",
    "            clear_output(wait=True)\n",
    "            display(image)\n",
    "        display(self.frame)\n",
    "        display(HBox(self.navigation_buttons))\n",
    "        display(HBox(self.class_buttons))\n",
    "\n",
    "    def _store_labeled_data(self, button: Button) -> None:\n",
    "        \"\"\"Annotates the current image with the button's description.\"\"\"\n",
    "        # store label\n",
    "        current_image = self.images[self.position]\n",
    "#         display(current_image)\n",
    "        mp_face_mesh = mp.solutions.face_mesh\n",
    "        \n",
    "        with mp_face_mesh.FaceMesh(\n",
    "            max_num_faces=1,\n",
    "            refine_landmarks=True,\n",
    "            min_detection_confidence=0.5,\n",
    "            min_tracking_confidence=0.5) as face_mesh:\n",
    "            \n",
    "#             print(str(self.path)+ \"\\\\\" + current_image)\n",
    "            \n",
    "            image = cv2.imread(str(self.path)+ \"\\\\\" + current_image)\n",
    "            image = cv2.cvtColor(image, cv2.COLOR_BGR2RGB)\n",
    "            resultFace = face_mesh.process(image)\n",
    "            if resultFace.multi_face_landmarks:\n",
    "                for face_landmarks in resultFace.multi_face_landmarks:\n",
    "                    if resultFace.multi_face_landmarks:\n",
    "                        #                         current_time = datetime.datetime.now(datetime.timezone.utc)\n",
    "                        if not (str(self.path)+\"\\\\\"+current_image) in self.labeled_data:\n",
    "                            xyz = [(lm.x, lm.y, lm.z) for lm in face_landmarks.landmark]\n",
    "                            self.labeled_data.update({(str(self.path)+\"\\\\\"+current_image) : (xyz, button.description)})\n",
    "    #                         self.labeled_data[str(self.path)+ \"\\\\\" + current_image] = (xyzt, button.description)\n",
    "                            self._next_image()\n",
    "            else:\n",
    "                clear_output(wait=True)\n",
    "                self.no_face = []\n",
    "                label_button = Button(description=\"No face detected\")\n",
    "                self.no_face.append(label_button)\n",
    "                display(self.frame)\n",
    "                display(HBox(self.navigation_buttons))\n",
    "                display(HBox(self.no_face))\n",
    "        # move on\n",
    "        \n",
    "    def load_labeled_data_to_file(self) -> None:\n",
    "        with open((str(self.path)+\"\\\\\"+\"labaled_data.json\"), \"r\") as outfile:\n",
    "            self.labeled_data = json.load(outfile)\n",
    "        \n",
    "    def save_labeled_data_to_file(self) -> None:\n",
    "        labeled_data_json = json.dumps(self.labeled_data, indent=4)\n",
    "#         print((str(self.path)+\"\\\\\"+\"labaled_data.json\"))\n",
    "        with open((str(self.path)+\"\\\\\"+\"labaled_data.json\"), \"w\") as outfile:\n",
    "            outfile.write(labeled_data_json)\n",
    "        \n",
    "    def start(self) -> None:\n",
    "        try:\n",
    "            self.load_labeled_data_to_file()\n",
    "        except:\n",
    "            print(\"No saved data\")\n",
    "        image = Image(self.path / self.images[self.position])\n",
    "        self.frame = Output(layout=Layout(height=\"300px\", max_width=\"300px\"))\n",
    "        with self.frame:\n",
    "            display(image)\n",
    "\n",
    "        # navigation buttons\n",
    "        backward_button = Button(description=\"< go back\")\n",
    "        backward_button.on_click(self._previous_image)\n",
    "        forward_button = Button(description=\"next >\")\n",
    "        forward_button.on_click(self._next_image)\n",
    "        self.navigation_buttons = [backward_button, forward_button]\n",
    "\n",
    "        # class label buttons\n",
    "        self.class_buttons = []\n",
    "        for label in self.classes:\n",
    "            label_button = Button(description=label)\n",
    "            label_button.on_click(self._store_labeled_data)\n",
    "            self.class_buttons.append(label_button)\n",
    "\n",
    "        # display contents\n",
    "        display(self.frame)\n",
    "        display(HBox(self.navigation_buttons))\n",
    "        display(HBox(self.class_buttons))"
   ]
  },
  {
   "cell_type": "code",
   "execution_count": 65,
   "id": "5f416013",
   "metadata": {},
   "outputs": [
    {
     "data": {
      "application/vnd.jupyter.widget-view+json": {
       "model_id": "4f03dba56e814acfadb8ab80232fa783",
       "version_major": 2,
       "version_minor": 0
      },
      "text/plain": [
       "Output(layout=Layout(height='300px', max_width='300px'), outputs=({'output_type': 'display_data', 'data': {'im…"
      ]
     },
     "metadata": {},
     "output_type": "display_data"
    },
    {
     "data": {
      "application/vnd.jupyter.widget-view+json": {
       "model_id": "d77fb789241548f398a648dc409c77cd",
       "version_major": 2,
       "version_minor": 0
      },
      "text/plain": [
       "HBox(children=(Button(description='< go back', style=ButtonStyle()), Button(description='next >', style=Button…"
      ]
     },
     "metadata": {},
     "output_type": "display_data"
    },
    {
     "data": {
      "application/vnd.jupyter.widget-view+json": {
       "model_id": "9c5615ae97f54a09b856d9d750d4234d",
       "version_major": 2,
       "version_minor": 0
      },
      "text/plain": [
       "HBox(children=(Button(description='open_mouth', style=ButtonStyle()), Button(description='closed_mouth', style…"
      ]
     },
     "metadata": {},
     "output_type": "display_data"
    }
   ],
   "source": [
    "tool = LabelingTool(path=\"wiki_crop/00\", classes = [\"open_mouth\", \"closed_mouth\"])\n",
    "\n",
    "tool.start()"
   ]
  },
  {
   "cell_type": "code",
   "execution_count": null,
   "id": "20fda00c",
   "metadata": {},
   "outputs": [],
   "source": []
  },
  {
   "cell_type": "code",
   "execution_count": 67,
   "id": "e9e6a535",
   "metadata": {},
   "outputs": [],
   "source": [
    "tool.save_labeled_data_to_file()"
   ]
  },
  {
   "cell_type": "code",
   "execution_count": null,
   "id": "367ce310",
   "metadata": {},
   "outputs": [],
   "source": []
  }
 ],
 "metadata": {
  "kernelspec": {
   "display_name": "Python 3 (ipykernel)",
   "language": "python",
   "name": "python3"
  },
  "language_info": {
   "codemirror_mode": {
    "name": "ipython",
    "version": 3
   },
   "file_extension": ".py",
   "mimetype": "text/x-python",
   "name": "python",
   "nbconvert_exporter": "python",
   "pygments_lexer": "ipython3",
   "version": "3.8.13"
  }
 },
 "nbformat": 4,
 "nbformat_minor": 5
}

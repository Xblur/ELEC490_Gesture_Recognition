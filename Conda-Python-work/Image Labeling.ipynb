{
 "cells": [
  {
   "cell_type": "code",
   "execution_count": 19,
   "id": "5b2316bc",
   "metadata": {},
   "outputs": [],
   "source": [
    "import cv2\n",
    "import numpy as np\n",
    "import mediapipe as mp\n",
    "import tensorflow as tf\n",
    "from tensorflow.keras.models import load_model\n",
    "import time\n",
    "import datetime\n",
    "from pathlib import Path\n",
    "from ipywidgets import Output, Button, Layout, HBox\n",
    "from IPython.display import Image, display, clear_output\n",
    "\n",
    "class LabelingTool:\n",
    "    def __init__(self, classes: list, path: str) -> None:\n",
    "        self.classes = classes\n",
    "        self.path = Path(path)\n",
    "        self.images = [f.name for f in self.path.glob(\"*.jpg\")]\n",
    "        self.labels = {}\n",
    "        self.position = 0\n",
    "\n",
    "    def _next_image(self, *args) -> None:\n",
    "        \"\"\"Select the next image and update the displays.\"\"\"\n",
    "        self.position += 1\n",
    "        if self.position == len(self.images):\n",
    "            self.position = 0\n",
    "\n",
    "        # refresh display\n",
    "        image = Image(self.path / self.images[self.position])\n",
    "        with self.frame:\n",
    "            clear_output(wait=True)\n",
    "            display(image)\n",
    "\n",
    "    def _previous_image(self, *args) -> None:\n",
    "        \"\"\"Select the previous image and update the displays.\"\"\"\n",
    "        self.position -= 1\n",
    "        if self.position == -1:\n",
    "            self.position = len(self.images) - 1\n",
    "\n",
    "        # refresh display\n",
    "        image = Image(self.path / self.images[self.position])\n",
    "        with self.frame:\n",
    "            clear_output(wait=True)\n",
    "            display(image)\n",
    "\n",
    "    def _store_label(self, button: Button) -> None:\n",
    "        \"\"\"Annotates the current image with the button's description.\"\"\"\n",
    "        # store label\n",
    "        current_image = self.images[self.position]\n",
    "        self.labels[current_image] = button.description\n",
    "\n",
    "        # move on\n",
    "        self._next_image()\n",
    "    \n",
    "    def start(self) -> None:\n",
    "        image = Image(self.path / self.images[self.position])\n",
    "        self.frame = Output(layout=Layout(height=\"300px\", max_width=\"300px\"))\n",
    "        with self.frame:\n",
    "            display(image)\n",
    "\n",
    "        # navigation buttons\n",
    "        backward_button = Button(description=\"< go back\")\n",
    "        backward_button.on_click(self._previous_image)\n",
    "        forward_button = Button(description=\"next >\")\n",
    "        forward_button.on_click(self._next_image)\n",
    "        self.navigation_buttons = [backward_button, forward_button]\n",
    "\n",
    "        # class label buttons\n",
    "        self.class_buttons = []\n",
    "        for label in self.classes:\n",
    "            label_button = Button(description=label)\n",
    "            label_button.on_click(self._store_label)\n",
    "            self.class_buttons.append(label_button)\n",
    "\n",
    "        # display contents\n",
    "        display(self.frame)\n",
    "        display(HBox(self.navigation_buttons))\n",
    "        display(HBox(self.class_buttons))"
   ]
  },
  {
   "cell_type": "code",
   "execution_count": 20,
   "id": "cd5a2f0c",
   "metadata": {},
   "outputs": [
    {
     "data": {
      "application/vnd.jupyter.widget-view+json": {
       "model_id": "98ed2b2b18e443bd85815e87bc24f756",
       "version_major": 2,
       "version_minor": 0
      },
      "text/plain": [
       "Output(layout=Layout(height='300px', max_width='300px'))"
      ]
     },
     "metadata": {},
     "output_type": "display_data"
    },
    {
     "data": {
      "application/vnd.jupyter.widget-view+json": {
       "model_id": "3ddcc454db5b496dac081e1234a2011d",
       "version_major": 2,
       "version_minor": 0
      },
      "text/plain": [
       "HBox(children=(Button(description='< go back', style=ButtonStyle()), Button(description='next >', style=Button…"
      ]
     },
     "metadata": {},
     "output_type": "display_data"
    },
    {
     "data": {
      "application/vnd.jupyter.widget-view+json": {
       "model_id": "411a6d21ab464aa388e005c22fdeab1c",
       "version_major": 2,
       "version_minor": 0
      },
      "text/plain": [
       "HBox(children=(Button(description='smile', style=ButtonStyle()), Button(description='no smile', style=ButtonSt…"
      ]
     },
     "metadata": {},
     "output_type": "display_data"
    }
   ],
   "source": [
    "tool = LabelingTool(path=\"wiki_crop/00\", classes = [\"smile\", \"no smile\"])\n",
    "\n",
    "tool.start()"
   ]
  },
  {
   "cell_type": "code",
   "execution_count": null,
   "id": "09247760",
   "metadata": {},
   "outputs": [],
   "source": []
  }
 ],
 "metadata": {
  "kernelspec": {
   "display_name": "Python 3 (ipykernel)",
   "language": "python",
   "name": "python3"
  },
  "language_info": {
   "codemirror_mode": {
    "name": "ipython",
    "version": 3
   },
   "file_extension": ".py",
   "mimetype": "text/x-python",
   "name": "python",
   "nbconvert_exporter": "python",
   "pygments_lexer": "ipython3",
   "version": "3.8.13"
  }
 },
 "nbformat": 4,
 "nbformat_minor": 5
}
